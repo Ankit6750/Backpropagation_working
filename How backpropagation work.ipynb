{
 "cells": [
  {
   "cell_type": "code",
   "execution_count": 209,
   "id": "ccf2beee",
   "metadata": {},
   "outputs": [],
   "source": [
    "# import libraries\n",
    "import pandas as pd\n",
    "# make dataFrame\n",
    "df=pd.DataFrame([[8,8,4],[7,9,5],[6,10,6],[5,12,7]],columns=['cgpa','profile_scr','lpa'])"
   ]
  },
  {
   "cell_type": "markdown",
   "id": "89846b44",
   "metadata": {},
   "source": [
    "# Regression usecase\n",
    "    - loss = np.sum(y-y_hat)**2"
   ]
  },
  {
   "cell_type": "code",
   "execution_count": 210,
   "id": "052019cc",
   "metadata": {},
   "outputs": [
    {
     "data": {
      "text/html": [
       "<div>\n",
       "<style scoped>\n",
       "    .dataframe tbody tr th:only-of-type {\n",
       "        vertical-align: middle;\n",
       "    }\n",
       "\n",
       "    .dataframe tbody tr th {\n",
       "        vertical-align: top;\n",
       "    }\n",
       "\n",
       "    .dataframe thead th {\n",
       "        text-align: right;\n",
       "    }\n",
       "</style>\n",
       "<table border=\"1\" class=\"dataframe\">\n",
       "  <thead>\n",
       "    <tr style=\"text-align: right;\">\n",
       "      <th></th>\n",
       "      <th>cgpa</th>\n",
       "      <th>profile_scr</th>\n",
       "      <th>lpa</th>\n",
       "    </tr>\n",
       "  </thead>\n",
       "  <tbody>\n",
       "    <tr>\n",
       "      <th>0</th>\n",
       "      <td>8</td>\n",
       "      <td>8</td>\n",
       "      <td>4</td>\n",
       "    </tr>\n",
       "    <tr>\n",
       "      <th>1</th>\n",
       "      <td>7</td>\n",
       "      <td>9</td>\n",
       "      <td>5</td>\n",
       "    </tr>\n",
       "    <tr>\n",
       "      <th>2</th>\n",
       "      <td>6</td>\n",
       "      <td>10</td>\n",
       "      <td>6</td>\n",
       "    </tr>\n",
       "    <tr>\n",
       "      <th>3</th>\n",
       "      <td>5</td>\n",
       "      <td>12</td>\n",
       "      <td>7</td>\n",
       "    </tr>\n",
       "  </tbody>\n",
       "</table>\n",
       "</div>"
      ],
      "text/plain": [
       "   cgpa  profile_scr  lpa\n",
       "0     8            8    4\n",
       "1     7            9    5\n",
       "2     6           10    6\n",
       "3     5           12    7"
      ]
     },
     "execution_count": 210,
     "metadata": {},
     "output_type": "execute_result"
    }
   ],
   "source": [
    "df"
   ]
  },
  {
   "cell_type": "code",
   "execution_count": 188,
   "id": "e60b4124",
   "metadata": {},
   "outputs": [],
   "source": [
    "import numpy as np\n",
    "\n",
    "#layer_dim=[2,2,1]\n",
    "\n",
    "def initialize_layer(layer_dim):\n",
    "    np.random.seed(3)\n",
    "    param={}\n",
    "    l=len(layer_dim)\n",
    "\n",
    "    for i in range(1,l):\n",
    "        param['w'+str(i)]=np.ones((layer[i-1],layer[i]))*0.1\n",
    "        param['b'+str(i)]=np.zeros((layer[i],1))\n",
    "        \n",
    "    return param "
   ]
  },
  {
   "cell_type": "code",
   "execution_count": 127,
   "id": "da87a044",
   "metadata": {},
   "outputs": [
    {
     "data": {
      "text/plain": [
       "{'w1': array([[0.1, 0.1],\n",
       "        [0.1, 0.1]]),\n",
       " 'b1': array([[0.],\n",
       "        [0.]]),\n",
       " 'w2': array([[0.1],\n",
       "        [0.1]]),\n",
       " 'b2': array([[0.]])}"
      ]
     },
     "execution_count": 127,
     "metadata": {},
     "output_type": "execute_result"
    }
   ],
   "source": [
    "# Initialize parameters\n",
    "parameter=initialize_layer([2,2,1])\n",
    "parameter"
   ]
  },
  {
   "cell_type": "code",
   "execution_count": 128,
   "id": "5ba5aac6",
   "metadata": {},
   "outputs": [
    {
     "data": {
      "text/plain": [
       "4"
      ]
     },
     "execution_count": 128,
     "metadata": {},
     "output_type": "execute_result"
    }
   ],
   "source": [
    "# take single data point from dataset\n",
    "x=df[['cgpa','profile_scr']].values[0].reshape(2,1)\n",
    "y=df['lpa'].values[0]\n",
    "y"
   ]
  },
  {
   "cell_type": "code",
   "execution_count": 254,
   "id": "76231d4a",
   "metadata": {},
   "outputs": [],
   "source": [
    "def linear_frwrd_algebra(a_prev,w,b):\n",
    "    z=np.dot(w.T,a_prev)+b\n",
    "    return z"
   ]
  },
  {
   "cell_type": "code",
   "execution_count": 257,
   "id": "7d870444",
   "metadata": {},
   "outputs": [],
   "source": [
    "def forward_prop(x,parameter):\n",
    "    a=x\n",
    "    l=len(parameter)//2 # num of layers in NN\n",
    "    for i in range(1,l+1):\n",
    "        a_prev=a\n",
    "        w1=parameter['w'+str(i)]\n",
    "        b1=parameter['b'+str(i)]\n",
    "        #print('A'+str(i-1)+\":\",a_prev)\n",
    "        #print('w'+str(i)+':',w1)\n",
    "        #print('b'+str(i)+':',b1)\n",
    "        \n",
    "        a=linear_frwrd_algebra(a_prev,w1,b1)\n",
    "        #print('A'+str(i)+':',a)\n",
    "        #print(\"*\"*30)\n",
    "        \n",
    "    return a_prev,a\n",
    "    "
   ]
  },
  {
   "cell_type": "code",
   "execution_count": 138,
   "id": "02202809",
   "metadata": {},
   "outputs": [
    {
     "name": "stdout",
     "output_type": "stream",
     "text": [
      "A0: [[8]\n",
      " [8]]\n",
      "w1: [[0.1 0.1]\n",
      " [0.1 0.1]]\n",
      "b1: [[0.]\n",
      " [0.]]\n",
      "A1: [[1.6]\n",
      " [1.6]]\n",
      "******************************\n",
      "A1: [[1.6]\n",
      " [1.6]]\n",
      "w2: [[0.1]\n",
      " [0.1]]\n",
      "b2: [[0.]]\n",
      "A2: [[0.32]]\n",
      "******************************\n"
     ]
    }
   ],
   "source": [
    "parameter=initialize_layer([2,2,1])\n",
    "a1,y_hat=forward_prop(x,parameter)"
   ]
  },
  {
   "cell_type": "code",
   "execution_count": 207,
   "id": "f16695b4",
   "metadata": {},
   "outputs": [],
   "source": [
    "def update_wght_bias(parameter,y,y_hat,a1,x):\n",
    "    parameter['w2'][0][0]=parameter['w2'][0][0]-(0.001*(-2*(y-y_hat)*a1[0][0]))\n",
    "    parameter['w2'][1][0]=parameter['w2'][1][0]-(0.001*(-2*(y-y_hat)*a1[1][0]))\n",
    "    parameter['b2'][0][0]=parameter['b2'][0][0]-(0.001*(-2*(y-y_hat)))\n",
    "    \n",
    "    parameter['w1'][0][0]=parameter['w1'][0][0]-(0.001*(-2*(y-y_hat)*parameter['w2'][0][0]*x[0][0]))\n",
    "    parameter['w1'][0][1]=parameter['w1'][0][1]-(0.001*(-2*(y-y_hat)*parameter['w2'][0][0]*x[1][0]))\n",
    "    parameter['b1'][0][0]=parameter['b1'][0][0]-(0.001*(-2*(y-y_hat)*parameter['w2'][0][0]))\n",
    "    \n",
    "    parameter['w1'][1][0]=parameter['w1'][1][0]-(0.001*(-2*(y-y_hat)*parameter['w2'][1][0]*x[0][0]))\n",
    "    parameter['w1'][1][1]=parameter['w1'][1][1]-(0.001*(-2*(y-y_hat)*parameter['w2'][1][0]*x[1][0]))\n",
    "    parameter['b1'][1][0]=parameter['b1'][1][0]-(0.001*(-2*(y-y_hat)*parameter['w2'][1][0]))\n",
    "    \n",
    "    "
   ]
  },
  {
   "cell_type": "code",
   "execution_count": 180,
   "id": "ec84075e",
   "metadata": {},
   "outputs": [],
   "source": [
    "update_wght_bias(parameter,y,y_hat,a1,x)"
   ]
  },
  {
   "cell_type": "code",
   "execution_count": 181,
   "id": "4f8c703b",
   "metadata": {},
   "outputs": [
    {
     "data": {
      "text/plain": [
       "{'w1': array([[0.13984056, 0.13984056],\n",
       "        [0.15161656, 0.13325919]]),\n",
       " 'b1': array([[0.00498007],\n",
       "        [0.0041574 ]]),\n",
       " 'w2': array([[0.15888],\n",
       "        [0.15888]]),\n",
       " 'b2': array([[0.0368]])}"
      ]
     },
     "execution_count": 181,
     "metadata": {},
     "output_type": "execute_result"
    }
   ],
   "source": [
    "parameter"
   ]
  },
  {
   "cell_type": "code",
   "execution_count": 182,
   "id": "e3a08253",
   "metadata": {},
   "outputs": [
    {
     "name": "stdout",
     "output_type": "stream",
     "text": [
      "A0: [[8]\n",
      " [8]]\n",
      "w1: [[0.13984056 0.13984056]\n",
      " [0.15161656 0.13325919]]\n",
      "b1: [[0.00498007]\n",
      " [0.0041574 ]]\n",
      "A1: [[2.33663708]\n",
      " [2.18895544]]\n",
      "******************************\n",
      "A1: [[2.33663708]\n",
      " [2.18895544]]\n",
      "w2: [[0.15888]\n",
      " [0.15888]]\n",
      "b2: [[0.0368]]\n",
      "A2: [[0.75582614]]\n",
      "******************************\n"
     ]
    },
    {
     "data": {
      "text/plain": [
       "(array([[2.33663708],\n",
       "        [2.18895544]]),\n",
       " array([[0.75582614]]))"
      ]
     },
     "execution_count": 182,
     "metadata": {},
     "output_type": "execute_result"
    }
   ],
   "source": [
    "forward_prop(x,parameter)"
   ]
  },
  {
   "cell_type": "code",
   "execution_count": 260,
   "id": "e1a3c37d",
   "metadata": {},
   "outputs": [
    {
     "name": "stdout",
     "output_type": "stream",
     "text": [
      "epoch - 1 loss - 26.28249792398698\n",
      "epoch - 2 loss - 19.438253848220803\n",
      "epoch - 3 loss - 10.139874435827522\n",
      "epoch - 4 loss - 3.385561305106485\n",
      "epoch - 5 loss - 1.3198454128484567\n",
      "epoch - 6 loss - 1.1524956147582675\n",
      "epoch - 7 loss - 1.2167000755723487\n",
      "epoch - 8 loss - 1.2516160752948002\n",
      "epoch - 9 loss - 1.263953264796692\n",
      "epoch - 10 loss - 1.267990188919891\n",
      "epoch - 11 loss - 1.2693870298130567\n",
      "epoch - 12 loss - 1.269994236160704\n",
      "epoch - 13 loss - 1.270385848419152\n",
      "epoch - 14 loss - 1.2707366990252273\n",
      "epoch - 15 loss - 1.2710994592311726\n"
     ]
    },
    {
     "data": {
      "text/plain": [
       "{'w1': array([[0.23663375, 0.45774529],\n",
       "        [0.24570952, 0.49708601]]),\n",
       " 'b1': array([[0.02953469],\n",
       "        [0.0323608 ]]),\n",
       " 'w2': array([[0.43026095],\n",
       "        [0.51398611]]),\n",
       " 'b2': array([[0.11900405]])}"
      ]
     },
     "execution_count": 260,
     "metadata": {},
     "output_type": "execute_result"
    }
   ],
   "source": [
    "parameter=initialize_layer([2,2,1])\n",
    "epochs=15\n",
    "for i in range(epochs):\n",
    "    loss=[]\n",
    "    for j in range(df.shape[0]):\n",
    "        x=df[['cgpa','profile_scr']].values[j].reshape(2,1)\n",
    "        y=df['lpa'].values[j]\n",
    "    \n",
    "        a1,y_hat=forward_prop(x,parameter)\n",
    "        y_hat=y_hat[0][0]\n",
    "    \n",
    "        update_wght_bias(parameter,y,y_hat,a1,x)\n",
    "        loss.append((y-y_hat)**2)\n",
    "        \n",
    "    print('epoch -',i+1,'loss -',np.array(loss).mean())\n",
    "    \n",
    "parameter    \n",
    "    "
   ]
  },
  {
   "cell_type": "markdown",
   "id": "63a77c7f",
   "metadata": {},
   "source": [
    "# By using keras library"
   ]
  },
  {
   "cell_type": "code",
   "execution_count": 212,
   "id": "2082d5e0",
   "metadata": {},
   "outputs": [
    {
     "data": {
      "text/html": [
       "<div>\n",
       "<style scoped>\n",
       "    .dataframe tbody tr th:only-of-type {\n",
       "        vertical-align: middle;\n",
       "    }\n",
       "\n",
       "    .dataframe tbody tr th {\n",
       "        vertical-align: top;\n",
       "    }\n",
       "\n",
       "    .dataframe thead th {\n",
       "        text-align: right;\n",
       "    }\n",
       "</style>\n",
       "<table border=\"1\" class=\"dataframe\">\n",
       "  <thead>\n",
       "    <tr style=\"text-align: right;\">\n",
       "      <th></th>\n",
       "      <th>cgpa</th>\n",
       "      <th>profile_scr</th>\n",
       "      <th>lpa</th>\n",
       "    </tr>\n",
       "  </thead>\n",
       "  <tbody>\n",
       "    <tr>\n",
       "      <th>0</th>\n",
       "      <td>8</td>\n",
       "      <td>8</td>\n",
       "      <td>4</td>\n",
       "    </tr>\n",
       "    <tr>\n",
       "      <th>1</th>\n",
       "      <td>7</td>\n",
       "      <td>9</td>\n",
       "      <td>5</td>\n",
       "    </tr>\n",
       "    <tr>\n",
       "      <th>2</th>\n",
       "      <td>6</td>\n",
       "      <td>10</td>\n",
       "      <td>6</td>\n",
       "    </tr>\n",
       "    <tr>\n",
       "      <th>3</th>\n",
       "      <td>5</td>\n",
       "      <td>12</td>\n",
       "      <td>7</td>\n",
       "    </tr>\n",
       "  </tbody>\n",
       "</table>\n",
       "</div>"
      ],
      "text/plain": [
       "   cgpa  profile_scr  lpa\n",
       "0     8            8    4\n",
       "1     7            9    5\n",
       "2     6           10    6\n",
       "3     5           12    7"
      ]
     },
     "execution_count": 212,
     "metadata": {},
     "output_type": "execute_result"
    }
   ],
   "source": [
    "df"
   ]
  },
  {
   "cell_type": "code",
   "execution_count": 214,
   "id": "cd939d0e",
   "metadata": {},
   "outputs": [],
   "source": [
    "import tensorflow\n",
    "from tensorflow import keras\n",
    "from keras import Sequential\n",
    "from keras.layers import Dense"
   ]
  },
  {
   "cell_type": "code",
   "execution_count": 215,
   "id": "5322be7a",
   "metadata": {},
   "outputs": [],
   "source": [
    "model=Sequential()\n",
    "\n",
    "model.add(Dense(2,activation='linear',input_dim=2))\n",
    "model.add(Dense(1,activation='linear'))"
   ]
  },
  {
   "cell_type": "code",
   "execution_count": 216,
   "id": "adc8fd71",
   "metadata": {},
   "outputs": [
    {
     "name": "stdout",
     "output_type": "stream",
     "text": [
      "Model: \"sequential\"\n",
      "_________________________________________________________________\n",
      " Layer (type)                Output Shape              Param #   \n",
      "=================================================================\n",
      " dense (Dense)               (None, 2)                 6         \n",
      "                                                                 \n",
      " dense_1 (Dense)             (None, 1)                 3         \n",
      "                                                                 \n",
      "=================================================================\n",
      "Total params: 9\n",
      "Trainable params: 9\n",
      "Non-trainable params: 0\n",
      "_________________________________________________________________\n"
     ]
    }
   ],
   "source": [
    "model.summary()"
   ]
  },
  {
   "cell_type": "code",
   "execution_count": 218,
   "id": "a5e5b169",
   "metadata": {},
   "outputs": [
    {
     "data": {
      "text/plain": [
       "[array([[-0.11764264, -0.46173888],\n",
       "        [-0.07439065,  0.69865084]], dtype=float32),\n",
       " array([0., 0.], dtype=float32),\n",
       " array([[-1.23408  ],\n",
       "        [ 1.0060426]], dtype=float32),\n",
       " array([0.], dtype=float32)]"
      ]
     },
     "execution_count": 218,
     "metadata": {},
     "output_type": "execute_result"
    }
   ],
   "source": [
    "model.get_weights()"
   ]
  },
  {
   "cell_type": "code",
   "execution_count": 244,
   "id": "82bc345a",
   "metadata": {},
   "outputs": [],
   "source": [
    "new_weights=[np.array([[0.1,0.1],[0.1,0.1]],dtype=np.float32),\n",
    "            np.array([0.,0.],dtype=np.float32),\n",
    "            np.array([[0.1],[0.1]],dtype=np.float32),\n",
    "            np.array([0.],dtype=np.float32)]"
   ]
  },
  {
   "cell_type": "code",
   "execution_count": 246,
   "id": "89ac6d4d",
   "metadata": {},
   "outputs": [
    {
     "data": {
      "text/plain": [
       "[array([[0.1, 0.1],\n",
       "        [0.1, 0.1]], dtype=float32),\n",
       " array([0., 0.], dtype=float32),\n",
       " array([[0.1],\n",
       "        [0.1]], dtype=float32),\n",
       " array([0.], dtype=float32)]"
      ]
     },
     "execution_count": 246,
     "metadata": {},
     "output_type": "execute_result"
    }
   ],
   "source": [
    "new_weights"
   ]
  },
  {
   "cell_type": "code",
   "execution_count": 247,
   "id": "3c7f3c15",
   "metadata": {},
   "outputs": [],
   "source": [
    "model.set_weights(new_weights)"
   ]
  },
  {
   "cell_type": "code",
   "execution_count": 252,
   "id": "977ecfa2",
   "metadata": {},
   "outputs": [],
   "source": [
    "optimizer=keras.optimizers.Adam(learning_rate=0.001)\n",
    "model.compile(loss='mean_squared_error',optimizer=optimizer)"
   ]
  },
  {
   "cell_type": "code",
   "execution_count": 261,
   "id": "64e2a936",
   "metadata": {},
   "outputs": [
    {
     "name": "stdout",
     "output_type": "stream",
     "text": [
      "Epoch 1/20\n",
      "4/4 [==============================] - 0s 5ms/step - loss: 1.0349\n",
      "Epoch 2/20\n",
      "4/4 [==============================] - 0s 5ms/step - loss: 1.0296\n",
      "Epoch 3/20\n",
      "4/4 [==============================] - 0s 5ms/step - loss: 1.0297\n",
      "Epoch 4/20\n",
      "4/4 [==============================] - 0s 5ms/step - loss: 1.0240\n",
      "Epoch 5/20\n",
      "4/4 [==============================] - 0s 5ms/step - loss: 1.0295\n",
      "Epoch 6/20\n",
      "4/4 [==============================] - 0s 5ms/step - loss: 1.0224\n",
      "Epoch 7/20\n",
      "4/4 [==============================] - 0s 5ms/step - loss: 1.0197\n",
      "Epoch 8/20\n",
      "4/4 [==============================] - 0s 6ms/step - loss: 1.0160\n",
      "Epoch 9/20\n",
      "4/4 [==============================] - 0s 6ms/step - loss: 1.0146\n",
      "Epoch 10/20\n",
      "4/4 [==============================] - 0s 5ms/step - loss: 1.0118\n",
      "Epoch 11/20\n",
      "4/4 [==============================] - 0s 5ms/step - loss: 1.0100\n",
      "Epoch 12/20\n",
      "4/4 [==============================] - 0s 6ms/step - loss: 1.0070\n",
      "Epoch 13/20\n",
      "4/4 [==============================] - 0s 5ms/step - loss: 1.0069\n",
      "Epoch 14/20\n",
      "4/4 [==============================] - 0s 5ms/step - loss: 1.0049\n",
      "Epoch 15/20\n",
      "4/4 [==============================] - 0s 5ms/step - loss: 1.0025\n",
      "Epoch 16/20\n",
      "4/4 [==============================] - 0s 5ms/step - loss: 1.0016\n",
      "Epoch 17/20\n",
      "4/4 [==============================] - 0s 6ms/step - loss: 1.0051\n",
      "Epoch 18/20\n",
      "4/4 [==============================] - 0s 6ms/step - loss: 0.9974\n",
      "Epoch 19/20\n",
      "4/4 [==============================] - 0s 5ms/step - loss: 0.9962\n",
      "Epoch 20/20\n",
      "4/4 [==============================] - 0s 6ms/step - loss: 0.9921\n"
     ]
    },
    {
     "data": {
      "text/plain": [
       "<keras.callbacks.History at 0x1c15ef88100>"
      ]
     },
     "execution_count": 261,
     "metadata": {},
     "output_type": "execute_result"
    }
   ],
   "source": [
    "model.fit(df.iloc[:,0:-1].values,df['lpa'].values,epochs=20,verbose=1,batch_size=1)"
   ]
  },
  {
   "cell_type": "markdown",
   "id": "e282fa73",
   "metadata": {},
   "source": [
    "# Classification usecase\n",
    "     loss= -ylog(y_hat)-(1-y)log(y_hat) Binary cross entropy\n",
    "     loss= -t(i)log(p(i)) t(i) =truth, p(i)=class probability,categorical_cross_entropy"
   ]
  },
  {
   "cell_type": "code",
   "execution_count": 264,
   "id": "9c36142a",
   "metadata": {},
   "outputs": [],
   "source": [
    "df=pd.DataFrame([[8,8,1],[7,9,1],[6,10,0],[5,5,0]],columns=['cgpa','profile_scr','placed'])"
   ]
  },
  {
   "cell_type": "code",
   "execution_count": 265,
   "id": "208edf79",
   "metadata": {},
   "outputs": [
    {
     "data": {
      "text/html": [
       "<div>\n",
       "<style scoped>\n",
       "    .dataframe tbody tr th:only-of-type {\n",
       "        vertical-align: middle;\n",
       "    }\n",
       "\n",
       "    .dataframe tbody tr th {\n",
       "        vertical-align: top;\n",
       "    }\n",
       "\n",
       "    .dataframe thead th {\n",
       "        text-align: right;\n",
       "    }\n",
       "</style>\n",
       "<table border=\"1\" class=\"dataframe\">\n",
       "  <thead>\n",
       "    <tr style=\"text-align: right;\">\n",
       "      <th></th>\n",
       "      <th>cgpa</th>\n",
       "      <th>profile_scr</th>\n",
       "      <th>placed</th>\n",
       "    </tr>\n",
       "  </thead>\n",
       "  <tbody>\n",
       "    <tr>\n",
       "      <th>0</th>\n",
       "      <td>8</td>\n",
       "      <td>8</td>\n",
       "      <td>1</td>\n",
       "    </tr>\n",
       "    <tr>\n",
       "      <th>1</th>\n",
       "      <td>7</td>\n",
       "      <td>9</td>\n",
       "      <td>1</td>\n",
       "    </tr>\n",
       "    <tr>\n",
       "      <th>2</th>\n",
       "      <td>6</td>\n",
       "      <td>10</td>\n",
       "      <td>0</td>\n",
       "    </tr>\n",
       "    <tr>\n",
       "      <th>3</th>\n",
       "      <td>5</td>\n",
       "      <td>5</td>\n",
       "      <td>0</td>\n",
       "    </tr>\n",
       "  </tbody>\n",
       "</table>\n",
       "</div>"
      ],
      "text/plain": [
       "   cgpa  profile_scr  placed\n",
       "0     8            8       1\n",
       "1     7            9       1\n",
       "2     6           10       0\n",
       "3     5            5       0"
      ]
     },
     "execution_count": 265,
     "metadata": {},
     "output_type": "execute_result"
    }
   ],
   "source": [
    "df"
   ]
  },
  {
   "cell_type": "code",
   "execution_count": 266,
   "id": "2e1e0ae4",
   "metadata": {},
   "outputs": [],
   "source": [
    "parameter=initialize_layer([2,2,1])"
   ]
  },
  {
   "cell_type": "code",
   "execution_count": 267,
   "id": "a04fab0b",
   "metadata": {},
   "outputs": [
    {
     "data": {
      "text/plain": [
       "{'w1': array([[0.1, 0.1],\n",
       "        [0.1, 0.1]]),\n",
       " 'b1': array([[0.],\n",
       "        [0.]]),\n",
       " 'w2': array([[0.1],\n",
       "        [0.1]]),\n",
       " 'b2': array([[0.]])}"
      ]
     },
     "execution_count": 267,
     "metadata": {},
     "output_type": "execute_result"
    }
   ],
   "source": [
    "parameter"
   ]
  },
  {
   "cell_type": "code",
   "execution_count": 268,
   "id": "10dcc1ec",
   "metadata": {},
   "outputs": [],
   "source": [
    "def sigmoid(z):\n",
    "    a=1/(1+np.exp(-z))\n",
    "    return a"
   ]
  },
  {
   "cell_type": "code",
   "execution_count": 269,
   "id": "f98fab91",
   "metadata": {},
   "outputs": [],
   "source": [
    "def linear_frwrd_algebra(a_prev,w,b):\n",
    "    z=np.dot(w.T,a_prev)+b\n",
    "    a=sigmoid(z)\n",
    "    return a"
   ]
  },
  {
   "cell_type": "code",
   "execution_count": 270,
   "id": "250ae83a",
   "metadata": {},
   "outputs": [],
   "source": [
    "def forward_prop(x,parameter):\n",
    "    a=x\n",
    "    l=len(parameter)//2 # num of layers in NN\n",
    "    for i in range(1,l+1):\n",
    "        a_prev=a\n",
    "        w1=parameter['w'+str(i)]\n",
    "        b1=parameter['b'+str(i)]\n",
    "        #print('A'+str(i-1)+\":\",a_prev)\n",
    "        #print('w'+str(i)+':',w1)\n",
    "        #print('b'+str(i)+':',b1)\n",
    "        \n",
    "        a=linear_frwrd_algebra(a_prev,w1,b1)\n",
    "        #print('A'+str(i)+':',a)\n",
    "        #print(\"*\"*30)\n",
    "        \n",
    "    return a_prev,a"
   ]
  },
  {
   "cell_type": "code",
   "execution_count": 271,
   "id": "e1845cd4",
   "metadata": {},
   "outputs": [],
   "source": [
    "def update_wght_bias(parameter,y,y_hat,a1,x):\n",
    "    parameter['w2'][0][0]=parameter['w2'][0][0]-(0.001*(-(y-y_hat)*a1[0][0]))\n",
    "    parameter['w2'][1][0]=parameter['w2'][1][0]-(0.001*(-(y-y_hat)*a1[1][0]))\n",
    "    parameter['b2'][0][0]=parameter['b2'][0][0]-(0.001*(-(y-y_hat)))\n",
    "    \n",
    "    parameter['w1'][0][0]=parameter['w1'][0][0]-(0.001*(-(y-y_hat)*parameter['w2'][0][0]*a1[0][0]*(1-a1[0][0])*x[0][0]))\n",
    "    parameter['w1'][0][1]=parameter['w1'][0][1]-(0.001*(-2*(y-y_hat)*parameter['w2'][0][0]*a1[1][0]*(1-a1[1][0])*x[1][0]))\n",
    "    parameter['b1'][0][0]=parameter['b1'][0][0]-(0.001*(-2*(y-y_hat)*parameter['w2'][0][0]*a1[0][0]*(1-a1[0][0])))\n",
    "    \n",
    "    parameter['w1'][1][0]=parameter['w1'][1][0]-(0.001*(-2*(y-y_hat)*parameter['w2'][1][0]*a1[1][0]*(1-a1[1][0])*x[0][0]))\n",
    "    parameter['w1'][1][1]=parameter['w1'][1][1]-(0.001*(-2*(y-y_hat)*parameter['w2'][1][0]*a1[1][0]*(1-a1[1][0])*x[1][0]))\n",
    "    parameter['b1'][1][0]=parameter['b1'][1][0]-(0.001*(-2*(y-y_hat)*parameter['w2'][1][0]*a1[1][0]*(1-a1[1][0])))\n",
    "    "
   ]
  },
  {
   "cell_type": "code",
   "execution_count": 275,
   "id": "6b147e73",
   "metadata": {},
   "outputs": [
    {
     "name": "stdout",
     "output_type": "stream",
     "text": [
      "epoch - 1 loss - 0.6152400231320512\n",
      "epoch - 2 loss - 0.6153785522860074\n",
      "epoch - 3 loss - 0.615516760632251\n",
      "epoch - 4 loss - 0.6156546489372986\n",
      "epoch - 5 loss - 0.6157922179657279\n",
      "epoch - 6 loss - 0.6159294684801842\n",
      "epoch - 7 loss - 0.6160664012413839\n",
      "epoch - 8 loss - 0.6162030170081206\n",
      "epoch - 9 loss - 0.6163393165372694\n",
      "epoch - 10 loss - 0.6164753005837916\n",
      "epoch - 11 loss - 0.6166109699007404\n",
      "epoch - 12 loss - 0.616746325239265\n",
      "epoch - 13 loss - 0.6168813673486158\n",
      "epoch - 14 loss - 0.6170160969761493\n",
      "epoch - 15 loss - 0.6171505148673333\n",
      "epoch - 16 loss - 0.6172846217657512\n",
      "epoch - 17 loss - 0.6174184184131066\n",
      "epoch - 18 loss - 0.6175519055492292\n",
      "epoch - 19 loss - 0.6176850839120791\n",
      "epoch - 20 loss - 0.617817954237751\n"
     ]
    },
    {
     "data": {
      "text/plain": [
       "{'w1': array([[0.09997329, 0.09925882],\n",
       "        [0.09995129, 0.09925881]]),\n",
       " 'b1': array([[-0.00020658],\n",
       "        [-0.00020635]]),\n",
       " 'w2': array([[0.09842863],\n",
       "        [0.09842915]]),\n",
       " 'b2': array([[-0.00318518]])}"
      ]
     },
     "execution_count": 275,
     "metadata": {},
     "output_type": "execute_result"
    }
   ],
   "source": [
    "parameter=initialize_layer([2,2,1])\n",
    "epochs=20\n",
    "for i in range(epochs):\n",
    "    loss=[]\n",
    "    for j in range(df.shape[0]):\n",
    "        x=df[['cgpa','profile_scr']].values[j].reshape(2,1)\n",
    "        y=df['placed'].values[j]\n",
    "    \n",
    "        a1,y_hat=forward_prop(x,parameter)\n",
    "        y_hat=y_hat[0][0]\n",
    "    \n",
    "        update_wght_bias(parameter,y,y_hat,a1,x)\n",
    "        loss.append(-y*np.log(y_hat)-(1-y)*np.log(y_hat))\n",
    "        \n",
    "    print('epoch -',i+1,'loss -',np.array(loss).mean())\n",
    "    \n",
    "parameter    \n",
    "    "
   ]
  },
  {
   "cell_type": "code",
   "execution_count": 277,
   "id": "de1c5249",
   "metadata": {},
   "outputs": [],
   "source": [
    "model=Sequential()\n",
    "\n",
    "model.add(Dense(2,activation='sigmoid',input_dim=2))\n",
    "model.add(Dense(1,activation='sigmoid'))"
   ]
  },
  {
   "cell_type": "code",
   "execution_count": 279,
   "id": "b85ba28c",
   "metadata": {},
   "outputs": [],
   "source": [
    "new_weights=[np.array([[0.1,0.1],[0.1,0.1]],dtype=np.float32),\n",
    "            np.array([0.,0.],dtype=np.float32),\n",
    "            np.array([[0.1],[0.1]],dtype=np.float32),\n",
    "            np.array([0.],dtype=np.float32)]"
   ]
  },
  {
   "cell_type": "code",
   "execution_count": 280,
   "id": "885fad91",
   "metadata": {},
   "outputs": [],
   "source": [
    "model.set_weights(new_weights)"
   ]
  },
  {
   "cell_type": "code",
   "execution_count": 285,
   "id": "97181e80",
   "metadata": {},
   "outputs": [],
   "source": [
    "optimizer=keras.optimizers.Adam(learning_rate=0.0001)\n",
    "model.compile(loss='binary_crossentropy',optimizer=optimizer)"
   ]
  },
  {
   "cell_type": "code",
   "execution_count": 286,
   "id": "df1e0fe0",
   "metadata": {},
   "outputs": [
    {
     "name": "stdout",
     "output_type": "stream",
     "text": [
      "Epoch 1/20\n",
      "4/4 [==============================] - 4s 16ms/step - loss: 0.6934\n",
      "Epoch 2/20\n",
      "4/4 [==============================] - 0s 24ms/step - loss: 0.6933\n",
      "Epoch 3/20\n",
      "4/4 [==============================] - 0s 15ms/step - loss: 0.6933\n",
      "Epoch 4/20\n",
      "4/4 [==============================] - 0s 17ms/step - loss: 0.6933\n",
      "Epoch 5/20\n",
      "4/4 [==============================] - 0s 18ms/step - loss: 0.6933\n",
      "Epoch 6/20\n",
      "4/4 [==============================] - 0s 18ms/step - loss: 0.6934\n",
      "Epoch 7/20\n",
      "4/4 [==============================] - 0s 18ms/step - loss: 0.6933\n",
      "Epoch 8/20\n",
      "4/4 [==============================] - 0s 16ms/step - loss: 0.6933\n",
      "Epoch 9/20\n",
      "4/4 [==============================] - 0s 19ms/step - loss: 0.6933\n",
      "Epoch 10/20\n",
      "4/4 [==============================] - 0s 18ms/step - loss: 0.6934\n",
      "Epoch 11/20\n",
      "4/4 [==============================] - 0s 18ms/step - loss: 0.6933\n",
      "Epoch 12/20\n",
      "4/4 [==============================] - 0s 24ms/step - loss: 0.6933\n",
      "Epoch 13/20\n",
      "4/4 [==============================] - 0s 18ms/step - loss: 0.6933\n",
      "Epoch 14/20\n",
      "4/4 [==============================] - 0s 19ms/step - loss: 0.6933\n",
      "Epoch 15/20\n",
      "4/4 [==============================] - 0s 18ms/step - loss: 0.6933\n",
      "Epoch 16/20\n",
      "4/4 [==============================] - 0s 17ms/step - loss: 0.6933\n",
      "Epoch 17/20\n",
      "4/4 [==============================] - 0s 18ms/step - loss: 0.6933\n",
      "Epoch 18/20\n",
      "4/4 [==============================] - 0s 18ms/step - loss: 0.6933\n",
      "Epoch 19/20\n",
      "4/4 [==============================] - 0s 20ms/step - loss: 0.6933\n",
      "Epoch 20/20\n",
      "4/4 [==============================] - 0s 19ms/step - loss: 0.6933\n"
     ]
    },
    {
     "data": {
      "text/plain": [
       "<keras.callbacks.History at 0x1c160a99100>"
      ]
     },
     "execution_count": 286,
     "metadata": {},
     "output_type": "execute_result"
    }
   ],
   "source": [
    "model.fit(df.iloc[:,0:-1].values,df.iloc[:,-1].values,epochs=20,verbose=1,batch_size=1)"
   ]
  },
  {
   "cell_type": "code",
   "execution_count": null,
   "id": "4168f9d9",
   "metadata": {},
   "outputs": [],
   "source": []
  },
  {
   "cell_type": "code",
   "execution_count": null,
   "id": "c9d55284",
   "metadata": {},
   "outputs": [],
   "source": []
  },
  {
   "cell_type": "code",
   "execution_count": null,
   "id": "f14959fd",
   "metadata": {},
   "outputs": [],
   "source": []
  }
 ],
 "metadata": {
  "kernelspec": {
   "display_name": "Python 3 (ipykernel)",
   "language": "python",
   "name": "python3"
  },
  "language_info": {
   "codemirror_mode": {
    "name": "ipython",
    "version": 3
   },
   "file_extension": ".py",
   "mimetype": "text/x-python",
   "name": "python",
   "nbconvert_exporter": "python",
   "pygments_lexer": "ipython3",
   "version": "3.8.8"
  }
 },
 "nbformat": 4,
 "nbformat_minor": 5
}
